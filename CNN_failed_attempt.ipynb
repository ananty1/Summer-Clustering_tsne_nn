{
  "nbformat": 4,
  "nbformat_minor": 0,
  "metadata": {
    "colab": {
      "provenance": [],
      "collapsed_sections": [
        "16G1mYxG4UCS",
        "HSpTLwIx4Z81",
        "Dt6ckmr94lKO",
        "_tXP7Vzk4pjw",
        "a4G5ZkjI4vSM",
        "G2QuS3Ht1sMK"
      ]
    },
    "kernelspec": {
      "name": "python3",
      "display_name": "Python 3"
    },
    "language_info": {
      "name": "python"
    },
    "accelerator": "GPU",
    "gpuClass": "standard"
  },
  "cells": [
    {
      "cell_type": "markdown",
      "source": [
        "##For My implementation of t-SNE link,\n",
        "https://colab.research.google.com/drive/16K_3rN4NTKDKvMBTFKoaDFqtHt7iBtAv"
      ],
      "metadata": {
        "id": "t2aj38sx4E1Q"
      }
    },
    {
      "cell_type": "markdown",
      "source": [
        "## Attempt to reduce Image using CNN is as follows"
      ],
      "metadata": {
        "id": "dDnesJ_R4Kx3"
      }
    },
    {
      "cell_type": "markdown",
      "source": [
        "#### Importing libraries"
      ],
      "metadata": {
        "id": "16G1mYxG4UCS"
      }
    },
    {
      "cell_type": "code",
      "execution_count": null,
      "metadata": {
        "id": "vvyMREMpATN_"
      },
      "outputs": [],
      "source": [
        "import numpy as np\n",
        "import pandas as pd\n",
        "import os\n",
        "import matplotlib.pyplot as plt\n",
        "from keras.layers import Dense, Dropout, Flatten\n",
        "from keras.layers import Conv2D, MaxPooling2D, Input\n",
        "from keras.models import Model\n",
        "from sklearn.model_selection import train_test_split\n",
        "from tensorflow.keras.layers import Add,Activation"
      ]
    },
    {
      "cell_type": "code",
      "source": [],
      "metadata": {
        "id": "mzVCYgb5A9uS"
      },
      "execution_count": null,
      "outputs": []
    },
    {
      "cell_type": "markdown",
      "source": [
        "#### Importing dataset"
      ],
      "metadata": {
        "id": "HSpTLwIx4Z81"
      }
    },
    {
      "cell_type": "code",
      "source": [
        "from google.colab import drive\n",
        "drive.mount('/content/drive')"
      ],
      "metadata": {
        "id": "7hGUzvwuBUcq",
        "colab": {
          "base_uri": "https://localhost:8080/"
        },
        "outputId": "15389de2-3a06-439c-c5b5-0ad56d1a4828"
      },
      "execution_count": null,
      "outputs": [
        {
          "output_type": "stream",
          "name": "stdout",
          "text": [
            "Drive already mounted at /content/drive; to attempt to forcibly remount, call drive.mount(\"/content/drive\", force_remount=True).\n"
          ]
        }
      ]
    },
    {
      "cell_type": "code",
      "source": [
        "train_df = pd.read_csv(\"/content/drive/MyDrive/MNIST Dataset/train.csv\")\n",
        "test_df = pd.read_csv(\"/content/drive/MyDrive/MNIST Dataset/test.csv\")\n",
        "train_labels = train_df['label']\n",
        "train_dataset = train_df.drop('label',axis=1)\n",
        "X = np.array(train_dataset).reshape(train_df.shape[0],28,28,1)\n",
        "Y = np.array(train_labels).reshape(train_df.shape[0],1)"
      ],
      "metadata": {
        "id": "axW6w7fOAYie"
      },
      "execution_count": null,
      "outputs": []
    },
    {
      "cell_type": "code",
      "source": [
        "train_df.shape\n",
        "# So we have 42000 points"
      ],
      "metadata": {
        "colab": {
          "base_uri": "https://localhost:8080/"
        },
        "id": "Ndp3PUuauzXY",
        "outputId": "d2d2b672-d68f-4d0d-d2ff-1cec11756c74"
      },
      "execution_count": null,
      "outputs": [
        {
          "output_type": "execute_result",
          "data": {
            "text/plain": [
              "(42000, 785)"
            ]
          },
          "metadata": {},
          "execution_count": 4
        }
      ]
    },
    {
      "cell_type": "code",
      "source": [
        "X.shape"
      ],
      "metadata": {
        "id": "TZgfiXkdikac",
        "colab": {
          "base_uri": "https://localhost:8080/"
        },
        "outputId": "f51956ca-de79-403d-d3d9-9d1662416d78"
      },
      "execution_count": null,
      "outputs": [
        {
          "output_type": "execute_result",
          "data": {
            "text/plain": [
              "(42000, 28, 28, 1)"
            ]
          },
          "metadata": {},
          "execution_count": 5
        }
      ]
    },
    {
      "cell_type": "markdown",
      "source": [
        "#### Here's is how our data looks like?"
      ],
      "metadata": {
        "id": "Dt6ckmr94lKO"
      }
    },
    {
      "cell_type": "code",
      "source": [
        "f , ax = plt.subplots(2,10,figsize=(6,6))\n",
        "\n",
        "for i,ax in enumerate(ax.flat):\n",
        "  ax.axis('off')\n",
        "  ax.imshow(X[i,:,:,0],cmap=\"gray\")"
      ],
      "metadata": {
        "colab": {
          "base_uri": "https://localhost:8080/",
          "height": 328
        },
        "id": "6UI2yrZQG05G",
        "outputId": "c12ee1ee-d0aa-48c0-9e82-35b98c443580"
      },
      "execution_count": null,
      "outputs": [
        {
          "output_type": "display_data",
          "data": {
            "text/plain": [
              "<Figure size 600x600 with 20 Axes>"
            ],
            "image/png": "[encoded data removed]"
          },
          "metadata": {}
        }
      ]
    },
    {
      "cell_type": "markdown",
      "source": [
        "#### Now our implementation"
      ],
      "metadata": {
        "id": "_tXP7Vzk4pjw"
      }
    },
    {
      "cell_type": "code",
      "source": [
        "def model():\n",
        "    \n",
        "    inputs = Input(shape=(28,28,1))\n",
        "    #Ok so we took the input image\n",
        "    x = Conv2D(24,kernel_size=(3,3),padding='same',activation=\"relu\")(inputs)\n",
        "    #now we did the the convoution on image with kernel(3,3),and we take 24 such kernel/filter and padding-same means,\n",
        "    #no extra-padding and relu means the negative values treated as 0,the ouput is called as feature map\n",
        "    #28x28x24\n",
        "    print(x)\n",
        "\n",
        "    x = MaxPooling2D(pool_size=(2, 2))(x)\n",
        "    #So we took the max value from each 2x2 window of the feature map\n",
        "    #14x14x26\n",
        "    x = Conv2D(48, (3, 3), padding='same',activation='relu')(x)\n",
        "    x = MaxPooling2D(pool_size=(2, 2))(x)\n",
        "    # x = Conv2D(64, (3, 3), padding='same',activation='relu')(x)\n",
        "    # x = MaxPooling2D(pool_size=(2, 2))(x)\n",
        "    # print(x)\n",
        "    x = Flatten()(x)\n",
        "    x = Dense(128, activation='relu')(x)\n",
        "    x = Dropout(0.25)(x)\n",
        "    num_classes=1\n",
        "    output = Dense(num_classes,activation=\"softmax\")(x)\n",
        "    \n",
        "    model = Model(inputs,output)\n",
        "    \n",
        "    model.compile(loss='categorical_crossentropy', \n",
        "              optimizer='adam', \n",
        "              metrics=['accuracy'])\n",
        "    \n",
        "    return model"
      ],
      "metadata": {
        "id": "XP6n9vi7JDm7"
      },
      "execution_count": null,
      "outputs": []
    },
    {
      "cell_type": "markdown",
      "source": [
        "#### Fitting the model with data"
      ],
      "metadata": {
        "id": "a4G5ZkjI4vSM"
      }
    },
    {
      "cell_type": "code",
      "source": [
        "X_train, X_test, y_train, y_test = train_test_split(X,Y,test_size=0.20, random_state=42)\n",
        "epochs = 20\n",
        "batch_size=256\n",
        "\n",
        "model1 = model()\n",
        "history = model1.fit(X_train,y_train,\n",
        "         epochs=epochs,\n",
        "         batch_size=batch_size,\n",
        "         validation_data=(X_test,y_test))"
      ],
      "metadata": {
        "id": "M1vnJL3nM0_W",
        "colab": {
          "base_uri": "https://localhost:8080/"
        },
        "outputId": "4536deea-2d8f-426e-a511-ce2197a114d2"
      },
      "execution_count": null,
      "outputs": [
        {
          "output_type": "stream",
          "name": "stdout",
          "text": [
            "Epoch 1/20\n"
          ]
        },
        {
          "output_type": "stream",
          "name": "stderr",
          "text": [
            "/usr/local/lib/python3.10/dist-packages/tensorflow/python/util/dispatch.py:1176: SyntaxWarning: In loss categorical_crossentropy, expected y_pred.shape to be (batch_size, num_classes) with num_classes > 1. Received: y_pred.shape=(None, 1). Consider using 'binary_crossentropy' if you only have 2 classes.\n",
            "  return dispatch_target(*args, **kwargs)\n"
          ]
        },
        {
          "output_type": "stream",
          "name": "stdout",
          "text": [
            "132/132 [==============================] - 16s 24ms/step - loss: 0.0000e+00 - accuracy: 0.1124 - val_loss: 0.0000e+00 - val_accuracy: 0.1082\n",
            "Epoch 2/20\n",
            "132/132 [==============================] - 2s 19ms/step - loss: 0.0000e+00 - accuracy: 0.1124 - val_loss: 0.0000e+00 - val_accuracy: 0.1082\n",
            "Epoch 3/20\n",
            "132/132 [==============================] - 3s 20ms/step - loss: 0.0000e+00 - accuracy: 0.1124 - val_loss: 0.0000e+00 - val_accuracy: 0.1082\n",
            "Epoch 4/20\n",
            "132/132 [==============================] - 3s 20ms/step - loss: 0.0000e+00 - accuracy: 0.1124 - val_loss: 0.0000e+00 - val_accuracy: 0.1082\n",
            "Epoch 5/20\n",
            "132/132 [==============================] - 3s 20ms/step - loss: 0.0000e+00 - accuracy: 0.1124 - val_loss: 0.0000e+00 - val_accuracy: 0.1082\n",
            "Epoch 6/20\n",
            "132/132 [==============================] - 2s 19ms/step - loss: 0.0000e+00 - accuracy: 0.1124 - val_loss: 0.0000e+00 - val_accuracy: 0.1082\n",
            "Epoch 7/20\n",
            "132/132 [==============================] - 3s 20ms/step - loss: 0.0000e+00 - accuracy: 0.1124 - val_loss: 0.0000e+00 - val_accuracy: 0.1082\n",
            "Epoch 8/20\n",
            "132/132 [==============================] - 2s 19ms/step - loss: 0.0000e+00 - accuracy: 0.1124 - val_loss: 0.0000e+00 - val_accuracy: 0.1082\n",
            "Epoch 9/20\n",
            "132/132 [==============================] - 3s 20ms/step - loss: nan - accuracy: 0.1042 - val_loss: nan - val_accuracy: 0.0971\n",
            "Epoch 10/20\n",
            "132/132 [==============================] - 3s 21ms/step - loss: nan - accuracy: 0.0987 - val_loss: nan - val_accuracy: 0.0971\n",
            "Epoch 11/20\n",
            "132/132 [==============================] - 3s 19ms/step - loss: nan - accuracy: 0.0987 - val_loss: nan - val_accuracy: 0.0971\n",
            "Epoch 12/20\n",
            "132/132 [==============================] - 3s 19ms/step - loss: nan - accuracy: 0.0987 - val_loss: nan - val_accuracy: 0.0971\n",
            "Epoch 13/20\n",
            "132/132 [==============================] - 2s 18ms/step - loss: nan - accuracy: 0.0987 - val_loss: nan - val_accuracy: 0.0971\n",
            "Epoch 14/20\n",
            "132/132 [==============================] - 3s 20ms/step - loss: nan - accuracy: 0.0987 - val_loss: nan - val_accuracy: 0.0971\n",
            "Epoch 15/20\n",
            "132/132 [==============================] - 4s 28ms/step - loss: nan - accuracy: 0.0987 - val_loss: nan - val_accuracy: 0.0971\n",
            "Epoch 16/20\n",
            "132/132 [==============================] - 3s 26ms/step - loss: nan - accuracy: 0.0987 - val_loss: nan - val_accuracy: 0.0971\n",
            "Epoch 17/20\n",
            "132/132 [==============================] - 3s 23ms/step - loss: nan - accuracy: 0.0987 - val_loss: nan - val_accuracy: 0.0971\n",
            "Epoch 18/20\n",
            "132/132 [==============================] - 3s 25ms/step - loss: nan - accuracy: 0.0987 - val_loss: nan - val_accuracy: 0.0971\n",
            "Epoch 19/20\n",
            "132/132 [==============================] - 3s 21ms/step - loss: nan - accuracy: 0.0987 - val_loss: nan - val_accuracy: 0.0971\n",
            "Epoch 20/20\n",
            "132/132 [==============================] - 3s 21ms/step - loss: nan - accuracy: 0.0987 - val_loss: nan - val_accuracy: 0.0971\n"
          ]
        }
      ]
    },
    {
      "cell_type": "code",
      "source": [
        "model1.summary()"
      ],
      "metadata": {
        "id": "rB1Oztc4Ohx2",
        "colab": {
          "base_uri": "https://localhost:8080/"
        },
        "outputId": "046b73ab-83b4-4a41-fb9e-5ddbc6614394"
      },
      "execution_count": null,
      "outputs": [
        {
          "output_type": "stream",
          "name": "stdout",
          "text": [
            "Model: \"model_1\"\n",
            "__________________________________________________________________________________________________\n",
            " Layer (type)                   Output Shape         Param #     Connected to                     \n",
            "==================================================================================================\n",
            " input_6 (InputLayer)           [(None, 28, 28, 1)]  0           []                               \n",
            "                                                                                                  \n",
            " conv2d_22 (Conv2D)             (None, 28, 28, 32)   320         ['input_6[0][0]']                \n",
            "                                                                                                  \n",
            " conv2d_23 (Conv2D)             (None, 28, 28, 32)   9248        ['conv2d_22[0][0]']              \n",
            "                                                                                                  \n",
            " conv2d_24 (Conv2D)             (None, 28, 28, 32)   9248        ['conv2d_23[0][0]']              \n",
            "                                                                                                  \n",
            " add_7 (Add)                    (None, 28, 28, 32)   0           ['conv2d_22[0][0]',              \n",
            "                                                                  'conv2d_24[0][0]']              \n",
            "                                                                                                  \n",
            " activation_4 (Activation)      (None, 28, 28, 32)   0           ['add_7[0][0]']                  \n",
            "                                                                                                  \n",
            " max_pooling2d_4 (MaxPooling2D)  (None, 14, 14, 32)  0           ['activation_4[0][0]']           \n",
            "                                                                                                  \n",
            " conv2d_25 (Conv2D)             (None, 7, 7, 64)     18496       ['max_pooling2d_4[0][0]']        \n",
            "                                                                                                  \n",
            " conv2d_27 (Conv2D)             (None, 7, 7, 64)     2112        ['max_pooling2d_4[0][0]']        \n",
            "                                                                                                  \n",
            " conv2d_26 (Conv2D)             (None, 7, 7, 64)     36928       ['conv2d_25[0][0]']              \n",
            "                                                                                                  \n",
            " add_8 (Add)                    (None, 7, 7, 64)     0           ['conv2d_27[0][0]',              \n",
            "                                                                  'conv2d_26[0][0]']              \n",
            "                                                                                                  \n",
            " activation_5 (Activation)      (None, 7, 7, 64)     0           ['add_8[0][0]']                  \n",
            "                                                                                                  \n",
            " max_pooling2d_5 (MaxPooling2D)  (None, 3, 3, 64)    0           ['activation_5[0][0]']           \n",
            "                                                                                                  \n",
            " flatten_1 (Flatten)            (None, 576)          0           ['max_pooling2d_5[0][0]']        \n",
            "                                                                                                  \n",
            " dense_2 (Dense)                (None, 128)          73856       ['flatten_1[0][0]']              \n",
            "                                                                                                  \n",
            " dropout_1 (Dropout)            (None, 128)          0           ['dense_2[0][0]']                \n",
            "                                                                                                  \n",
            " dense_3 (Dense)                (None, 1)            129         ['dropout_1[0][0]']              \n",
            "                                                                                                  \n",
            "==================================================================================================\n",
            "Total params: 150,337\n",
            "Trainable params: 150,337\n",
            "Non-trainable params: 0\n",
            "__________________________________________________________________________________________________\n"
          ]
        }
      ]
    },
    {
      "cell_type": "markdown",
      "source": [
        "#### Reducing the Image"
      ],
      "metadata": {
        "id": "8xAqwOeO4z2b"
      }
    },
    {
      "cell_type": "code",
      "source": [
        "layer_outputs = [layer.output for layer in model1.layers[1:5]]\n",
        "activation_model = Model(inputs=model1.input,outputs=layer_outputs)\n",
        "\n",
        "convluted_img_arr = []\n",
        "for i in range(400):\n",
        "    img = X[i].reshape(1,28,28,1)\n",
        "    activations = activation_model.predict(img)\n",
        "    print(activations)\n",
        "    layer_names = []\n",
        "    for layer in model1.layers[1:5]:\n",
        "        layer_names.append(layer.name)\n",
        "\n",
        "    for j in range(4):\n",
        "        if j == 1:\n",
        "            layer_activation = activations[j]\n",
        "            n_features = layer_activation.shape[-1]\n",
        "            size = layer_activation.shape[1]\n",
        "            channel_image = layer_activation[0,:, :, 0]\n",
        "            channel_image -= channel_image.mean()\n",
        "            channel_image /= channel_image.std()\n",
        "            channel_image *= 64\n",
        "            channel_image += 128\n",
        "            channel_image = np.clip(channel_image, 0, 255).astype('uint8')\n",
        "            # plt.imshow(channel_image)\n",
        "            img_coll=channel_image\n",
        "            convluted_img_arr.append(img_coll)\n",
        "           \n",
        "  \n"
      ],
      "metadata": {
        "id": "YKv0LJKV-9LW"
      },
      "execution_count": null,
      "outputs": []
    },
    {
      "cell_type": "code",
      "source": [
        "convluted_img_arr=np.array(convluted_img_arr)\n",
        "print(convluted_img_arr.shape)\n",
        "y_test=Y[:12000]\n",
        "y_test=np.array([y[0] for y in y_test])\n",
        "y_test.shape\n",
        "\n",
        "from tempfile import TemporaryFile\n",
        "outfile = TemporaryFile()\n",
        "np.savez('MNIST_Convoluted_14x14', data=convluted_img_arr, target=y_test)\n",
        "\n",
        "# np.save(\"ConvolutedImageMNIST\",convluted_img_arr)"
      ],
      "metadata": {
        "colab": {
          "base_uri": "https://localhost:8080/"
        },
        "id": "UkCV_QaG_Y-u",
        "outputId": "6a4016b5-a442-4b13-8ea0-d862ea4906ea"
      },
      "execution_count": null,
      "outputs": [
        {
          "output_type": "stream",
          "name": "stdout",
          "text": [
            "(12000, 196)\n"
          ]
        }
      ]
    },
    {
      "cell_type": "code",
      "source": [],
      "metadata": {
        "id": "N4r2rXZaEObE"
      },
      "execution_count": null,
      "outputs": []
    },
    {
      "cell_type": "code",
      "source": [],
      "metadata": {
        "id": "DJ0Z1dYNEOTE"
      },
      "execution_count": null,
      "outputs": []
    },
    {
      "cell_type": "markdown",
      "source": [
        "## Please ignore the following lines ,\n",
        "they are just for testing purpose the above code will serve the purpose"
      ],
      "metadata": {
        "id": "G2QuS3Ht1sMK"
      }
    },
    {
      "cell_type": "code",
      "source": [
        "convluted_img_arr=[]\n",
        "for i in range(8400):\n",
        "  layer_outputs = [layer.output for layer in model1.layers[1:5]]\n",
        "  # print(\"layers_ouput\",layer_outputs)\n",
        "  activation_model = Model(inputs=model1.input,outputs=layer_outputs)\n",
        "  # print(activation_model)\n",
        "  img_coll=np.array([])\n",
        "  img = X[i].reshape(1,28,28,1)\n",
        "  activations = activation_model.predict(img)\n",
        "\n",
        "  layer_names = []\n",
        "  # print(\"lets add the convolution and max-pooling layer to layer_names list\")\n",
        "  for layer in model1.layers[1:5]:\n",
        "      layer_names.append(layer.name) # Names of the layers, so you can have them as part of your plot\n",
        "  # print(\"So append done in list \\n let's check it out:\",layer_names)\n",
        "\n",
        "  cnt=0\n",
        "  for layer_name, layer_activation in zip(layer_names, activations): # Displays the feature maps\n",
        "    cnt+=1\n",
        "    if cnt==2:\n",
        "      n_features = layer_activation.shape[-1]\n",
        "      size = layer_activation.shape[1]\n",
        "      channel_image = layer_activation[0,:, :, 0]\n",
        "      channel_image -= channel_image.mean() # Post-processes the feature to make it visually palatable\n",
        "      channel_image /= channel_image.std()\n",
        "      channel_image *= 64\n",
        "      channel_image += 128\n",
        "      channel_image = np.clip(channel_image, 0, 255).astype('uint8')\n",
        "      plt.imshow(channel_image)\n",
        "      img_coll=channel_image\n",
        "      convluted_img_arr.append(img_coll.reshape((14*14))) \n",
        "    \n"
      ],
      "metadata": {
        "id": "zcXlQcz2SL_r"
      },
      "execution_count": null,
      "outputs": []
    },
    {
      "cell_type": "code",
      "source": [],
      "metadata": {
        "id": "kaKFl2n2YEUb",
        "colab": {
          "base_uri": "https://localhost:8080/"
        },
        "outputId": "929eb20b-5f9a-4504-d809-ea563fe3f8d5"
      },
      "execution_count": null,
      "outputs": [
        {
          "output_type": "stream",
          "name": "stdout",
          "text": [
            "(400, 196)\n"
          ]
        }
      ]
    },
    {
      "cell_type": "code",
      "source": [
        "\n"
      ],
      "metadata": {
        "id": "C0VtCTRibQhz",
        "colab": {
          "base_uri": "https://localhost:8080/"
        },
        "outputId": "14878577-1d65-49ef-f272-c5f0507c261a"
      },
      "execution_count": null,
      "outputs": [
        {
          "output_type": "execute_result",
          "data": {
            "text/plain": [
              "(400,)"
            ]
          },
          "metadata": {},
          "execution_count": 27
        }
      ]
    },
    {
      "cell_type": "code",
      "source": [
        "print(y_test[39])\n",
        "plt.imshow(convluted_img_arr[39].reshape(14,14))"
      ],
      "metadata": {
        "colab": {
          "base_uri": "https://localhost:8080/",
          "height": 465
        },
        "id": "tQVbzbio3LLM",
        "outputId": "5c7b8c62-751c-4445-ff24-5f9169b1839f"
      },
      "execution_count": null,
      "outputs": [
        {
          "output_type": "stream",
          "name": "stdout",
          "text": [
            "4\n"
          ]
        },
        {
          "output_type": "execute_result",
          "data": {
            "text/plain": [
              "<matplotlib.image.AxesImage at 0x7fbb70266320>"
            ]
          },
          "metadata": {},
          "execution_count": 29
        },
        {
          "output_type": "display_data",
          "data": {
            "text/plain": [
              "<Figure size 640x480 with 1 Axes>"
            ],
            "image/png": "[encoded data removed]"
          },
          "metadata": {}
        }
      ]
    },
    {
      "cell_type": "code",
      "source": [
        "from tempfile import TemporaryFile\n",
        "outfile = TemporaryFile()\n",
        "np.savez('MNIST_Convoluted_14x14', data=convluted_img_arr, target=y_test)"
      ],
      "metadata": {
        "id": "acgziL_7U8R-"
      },
      "execution_count": null,
      "outputs": []
    },
    {
      "cell_type": "markdown",
      "source": [
        "ATTEMPTS AND QUESTIONS NEEDED TO ASK"
      ],
      "metadata": {
        "id": "XrIHdW-bn_vY"
      }
    },
    {
      "cell_type": "code",
      "source": [
        "figure = plt.figure(figsize=(20,20))\n",
        "for i in range(5):\n",
        "    figure.add_subplot(1,5,i+1)\n",
        "    plt.imshow(X_test[i+90,:,:,0],cmap=\"gray\")\n",
        "    plt.axis(\"off\")\n",
        "    print(np.squeeze(np.argmax(model1.predict(X_test[i+90].reshape(1,28,28,1)),axis=1),axis=0),end=\"\\t\")"
      ],
      "metadata": {
        "colab": {
          "base_uri": "https://localhost:8080/",
          "height": 332
        },
        "id": "ScAt2HXBQoIe",
        "outputId": "7e56cc56-6e58-46e8-dccc-ea1f7f0361dd"
      },
      "execution_count": null,
      "outputs": [
        {
          "output_type": "stream",
          "name": "stdout",
          "text": [
            "1/1 [==============================] - 0s 62ms/step\n",
            "1/1 [==============================] - 0s 21ms/step\n",
            "1/1 [==============================] - 0s 20ms/step\n",
            "1/1 [==============================] - 0s 21ms/step\n",
            "1/1 [==============================] - 0s 20ms/step\n",
            "0\t"
          ]
        },
        {
          "output_type": "display_data",
          "data": {
            "text/plain": [
              "<Figure size 1440x1440 with 5 Axes>"
            ],
            "image/png": "[encoded data removed]"
          },
          "metadata": {
            "needs_background": "light"
          }
        }
      ]
    },
    {
      "cell_type": "code",
      "source": [
        "layer_outputs = [layer.output for layer in model1.layers[1:5]]\n",
        "print(\"layers_ouput\",layer_outputs)\n",
        "activation_model = Model(inputs=model1.input,outputs=layer_outputs)\n",
        "print(activation_model)"
      ],
      "metadata": {
        "id": "pvYLif0jRMn4",
        "colab": {
          "base_uri": "https://localhost:8080/"
        },
        "outputId": "53153c65-422b-4302-f28e-a8f9367bc48a"
      },
      "execution_count": null,
      "outputs": [
        {
          "output_type": "stream",
          "name": "stdout",
          "text": [
            "layers_ouput [<KerasTensor: shape=(None, 28, 28, 24) dtype=float32 (created by layer 'conv2d_16')>, <KerasTensor: shape=(None, 14, 14, 24) dtype=float32 (created by layer 'max_pooling2d_16')>, <KerasTensor: shape=(None, 14, 14, 48) dtype=float32 (created by layer 'conv2d_17')>, <KerasTensor: shape=(None, 7, 7, 48) dtype=float32 (created by layer 'max_pooling2d_17')>]\n",
            "<keras.engine.functional.Functional object at 0x7f95d1f46700>\n"
          ]
        }
      ]
    },
    {
      "cell_type": "code",
      "source": [
        "img = X_test[91].reshape(1,28,28,1)\n",
        "fig = plt.figure(figsize=(5,5))\n",
        "plt.imshow(img[0,:,:,0],cmap=\"gray\")\n",
        "plt.axis('off')"
      ],
      "metadata": {
        "colab": {
          "base_uri": "https://localhost:8080/",
          "height": 321
        },
        "id": "jibr78gERsAZ",
        "outputId": "c0accd80-1478-484e-fd34-491acf1ae092"
      },
      "execution_count": null,
      "outputs": [
        {
          "output_type": "execute_result",
          "data": {
            "text/plain": [
              "(-0.5, 27.5, 27.5, -0.5)"
            ]
          },
          "metadata": {},
          "execution_count": 131
        },
        {
          "output_type": "display_data",
          "data": {
            "text/plain": [
              "<Figure size 360x360 with 1 Axes>"
            ],
            "image/png": "[encoded data removed]"
          },
          "metadata": {
            "needs_background": "light"
          }
        }
      ]
    },
    {
      "cell_type": "code",
      "source": [
        "activations = activation_model.predict(img)"
      ],
      "metadata": {
        "colab": {
          "base_uri": "https://localhost:8080/"
        },
        "id": "0rZgitGdRxbp",
        "outputId": "8c98a8f5-1e50-43ec-ba25-5c8c15de2eb7"
      },
      "execution_count": null,
      "outputs": [
        {
          "output_type": "stream",
          "name": "stdout",
          "text": [
            "1/1 [==============================] - 0s 56ms/step\n"
          ]
        }
      ]
    },
    {
      "cell_type": "code",
      "source": [
        "layer_names = []\n",
        "for layer in model1.layers[1:5]:\n",
        "    print(\"the layer_names are\",layer)\n",
        "    layer_names.append(layer.name) # Names of the layers, so you can have them as part of your plot\n",
        "print(\"the list is \",layer_names)"
      ],
      "metadata": {
        "colab": {
          "base_uri": "https://localhost:8080/"
        },
        "id": "mts0JV13dUen",
        "outputId": "9712971e-6a7d-4e6c-9074-b25c3fae8caf"
      },
      "execution_count": null,
      "outputs": [
        {
          "output_type": "stream",
          "name": "stdout",
          "text": [
            "the layer_names are <keras.layers.convolutional.conv2d.Conv2D object at 0x7f95c2c6a6a0>\n",
            "the layer_names are <keras.layers.pooling.max_pooling2d.MaxPooling2D object at 0x7f95c2c51190>\n",
            "the layer_names are <keras.layers.convolutional.conv2d.Conv2D object at 0x7f95c2c51a00>\n",
            "the layer_names are <keras.layers.pooling.max_pooling2d.MaxPooling2D object at 0x7f95c2c512e0>\n",
            "the list is  ['conv2d_16', 'max_pooling2d_16', 'conv2d_17', 'max_pooling2d_17']\n"
          ]
        }
      ]
    },
    {
      "cell_type": "code",
      "source": [
        "layer_names = []\n",
        "print(\"lets add the convolution and max-pooling layer to layer_names list\")\n",
        "for layer in model1.layers[1:5]:\n",
        "    layer_names.append(layer.name) # Names of the layers, so you can have them as part of your plot\n",
        "print(\"So append done in list \\n let's check it out:\",layer_names)\n",
        "\n",
        "print(\"NOW WE WIIL SHOW IMAGES: ------------>>>>>>>>>>>\")\n",
        "images_per_row = 16\n",
        "for layer_name, layer_activation in zip(layer_names, activations): # Displays the feature maps\n",
        "    n_features = layer_activation.shape[-1] # Number of features in the feature map\n",
        "    print(\"So the number of feature map\",n_features,\"and the features are: \",layer_name)\n",
        "    size = layer_activation.shape[1] #The feature map has shape (1, size, size, n_features).\n",
        "    n_cols = n_features // images_per_row # Tiles the activation channels in this matrix\n",
        "    display_grid = np.zeros((size * n_cols, images_per_row * size))\n",
        "    cnt=0\n",
        "    for col in range(n_cols): # Tiles each filter into a big horizontal grid\n",
        "        for row in range(images_per_row):\n",
        "            \n",
        "            channel_image = layer_activation[0,\n",
        "                                             :, :,\n",
        "                                             col * images_per_row + row]\n",
        "            channel_image -= channel_image.mean() # Post-processes the feature to make it visually palatable\n",
        "            channel_image /= channel_image.std()\n",
        "            channel_image *= 64\n",
        "            channel_image += 128\n",
        "            channel_image = np.clip(channel_image, 0, 255).astype('uint8')\n",
        "            display_grid[col * size : (col + 1) * size, # Displays the grid\n",
        "                         row * size : (row + 1) * size] = channel_image\n",
        "            if row==cnt:\n",
        "              print(\"Channel Image: \",channel_image.shape)\n",
        "            cnt+=1\n",
        "    scale = 1. / size\n",
        "    plt.figure(figsize=(scale * display_grid.shape[1],\n",
        "                        scale * display_grid.shape[0]))\n",
        "    plt.title(layer_name)\n",
        "    plt.grid(False)\n",
        "    plt.imshow(display_grid, aspect='auto', cmap='viridis')\n"
      ],
      "metadata": {
        "id": "RqJNDjoVR6O_"
      },
      "execution_count": null,
      "outputs": []
    },
    {
      "cell_type": "markdown",
      "source": [
        "#Questions\n",
        "when i am starting my model from start ,then why it it showing conv2d_16 instead of conv2d_1,or MaxPooling2d_17 instead of maxpooling_2d_3?\n",
        "which one  should i chose,according to me i want to take the one in which i can see the image even after cnn"
      ],
      "metadata": {
        "id": "Qfgyvpa5lMpF"
      }
    },
    {
      "cell_type": "code",
      "source": [],
      "metadata": {
        "id": "ceqFifkglOZM"
      },
      "execution_count": null,
      "outputs": []
    }
  ]
}