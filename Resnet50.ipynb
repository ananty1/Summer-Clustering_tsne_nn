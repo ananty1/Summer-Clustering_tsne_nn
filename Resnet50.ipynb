{
  "nbformat": 4,
  "nbformat_minor": 0,
  "metadata": {
    "colab": {
      "provenance": [],
      "collapsed_sections": [
        "gHwN8NcJ5RlS"
      ]
    },
    "kernelspec": {
      "name": "python3",
      "display_name": "Python 3"
    },
    "language_info": {
      "name": "python"
    },
    "accelerator": "GPU",
    "gpuClass": "standard"
  },
  "cells": [
    {
      "cell_type": "markdown",
      "source": [
        "##For My implementation of t-SNE link,\n",
        "https://colab.research.google.com/drive/16K_3rN4NTKDKvMBTFKoaDFqtHt7iBtAv"
      ],
      "metadata": {
        "id": "s9CyEHpx5z3i"
      }
    },
    {
      "cell_type": "markdown",
      "source": [
        "#### Importing libraries"
      ],
      "metadata": {
        "id": "gHwN8NcJ5RlS"
      }
    },
    {
      "cell_type": "code",
      "source": [
        "import tensorflow as tf\n",
        "from tensorflow.keras.datasets import mnist\n",
        "from tensorflow.keras.layers import Input\n",
        "(x_train, y_train), (x_test, y_test) = mnist.load_data()\n"
      ],
      "metadata": {
        "id": "KfSA7p9Clv34"
      },
      "execution_count": null,
      "outputs": []
    },
    {
      "cell_type": "code",
      "source": [
        "from google.colab import drive\n",
        "drive.mount('/content/drive')\n"
      ],
      "metadata": {
        "colab": {
          "base_uri": "https://localhost:8080/"
        },
        "id": "DY85aWg5mzNM",
        "outputId": "8f2da569-dc65-4b35-96cd-2e61c4894638"
      },
      "execution_count": null,
      "outputs": [
        {
          "output_type": "stream",
          "name": "stdout",
          "text": [
            "Mounted at /content/drive\n"
          ]
        }
      ]
    },
    {
      "cell_type": "markdown",
      "source": [
        "#### Extracting features from mnist dataset for each Image"
      ],
      "metadata": {
        "id": "aG2WYMoY5az1"
      }
    },
    {
      "cell_type": "code",
      "source": [
        "\n",
        "from skimage.transform import resize\n",
        "\n",
        "# Load the MNIST dataset\n",
        "(X_train, y_train), (X_test, y_test) = mnist.load_data()\n",
        "\n",
        "# Convert grayscale images to RGB format\n",
        "X_train = tf.image.grayscale_to_rgb(tf.expand_dims(x_train, -1))\n",
        "X_test = tf.image.grayscale_to_rgb(tf.expand_dims(x_test, -1))\n",
        "\n",
        "# Resize images to (32, 32, 1)\n",
        "X_train = resize(X_train, (X_train.shape[0], 32, 32, 3))\n",
        "X_test = resize(X_test, (X_test.shape[0], 32, 32, 3))\n",
        "\n",
        "# Convert pixel values to float32 and scale to [0, 1]\n",
        "X_train = X_train.astype('float32') / 255\n",
        "X_test = X_test.astype('float32') / 255\n",
        "\n",
        "\n",
        "# Load the ResNet50 model\n",
        "resnet = tf.keras.applications.ResNet50(weights='imagenet', include_top=False, input_shape=(32, 32, 3))\n",
        "\n",
        "# Extract features for the train and test sets\n",
        "train_features = resnet.predict(X_train)\n",
        "test_features = resnet.predict(X_test)\n",
        "\n",
        "# Flatten the features\n",
        "train_features = np.reshape(train_features, (train_features.shape[0], -1))\n",
        "test_features = np.reshape(test_features, (test_features.shape[0], -1))\n",
        "\n",
        "# Print the shape of the feature vectors\n",
        "print('Train feature vector shape:', train_features.shape)\n",
        "print('Test feature vector shape:', test_features.shape)\n",
        "\n",
        "from tempfile import TemporaryFile\n",
        "outfile = TemporaryFile()\n",
        "\n",
        "np.savez('/content/drive/MyDrive/MNIST Dataset/resnet_mnist', X_train = train_features,X_test = test_features,y_train=y_train,y_test = y_test)"
      ],
      "metadata": {
        "colab": {
          "base_uri": "https://localhost:8080/"
        },
        "id": "NawX_-1ZnV1W",
        "outputId": "2f90df24-c573-4b48-f1af-3a50d2e31bad"
      },
      "execution_count": null,
      "outputs": [
        {
          "output_type": "stream",
          "name": "stdout",
          "text": [
            "1875/1875 [==============================] - 15s 8ms/step\n",
            "313/313 [==============================] - 4s 7ms/step\n",
            "Train feature vector shape: (60000, 2048)\n",
            "Test feature vector shape: (10000, 2048)\n"
          ]
        }
      ]
    },
    {
      "cell_type": "code",
      "source": [],
      "metadata": {
        "id": "mD-Rdvh5qFg-"
      },
      "execution_count": null,
      "outputs": []
    }
  ]
}